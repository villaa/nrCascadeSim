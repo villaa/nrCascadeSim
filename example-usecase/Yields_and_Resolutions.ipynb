{
 "cells": [
  {
   "cell_type": "markdown",
   "metadata": {},
   "source": [
    "# Applying Yields and Resolutions\n",
    "\n",
    "This notebook serves two purposes. The first is to act as a test; you should be able to roughly reproduce the below graphic by running this notebook. The second is to serve as an example usecase. Below, we want to emulate a detector that we know follows either the Lindhard or Sorenson model for ionization energy and has a resolution that affects where the data lands; we are able to apply both the yields and resolutions to the data in order to get a more realistic model for the detector's output.\n",
    "\n",
    "![SorVsLin.svg](SorVsLin.svg)\n",
    "\n",
    "## Generating a \\*.root file for this notebook\n",
    "The file used to generate the above plot is already present. However, if you would like to generate your own file for comparison, you can replace it as follows. In the top-level nrCascadeSim directory, after compiling (and activating any necessary environments if applicable), run:\n",
    "``` \n",
    "./realizeCascades -n 10000 -o test-example/data/file.root levelfiles/Si28_ngam_all_cascades.txt\n",
    "```\n",
    "(Note that due to the randomness of the output, some variation is expected if you replace the file.)\n",
    "\n",
    "## Notes\n",
    "\n",
    "You may encounter some runtime warnings - these are expected.  \n",
    "If you have a \\*.root file you want to call saved to a different location than mentioned in the instructions above, be sure to change line 21 to point to the correct location.  \n",
    "Please allow sufficient time to run this notebook; for very large root files it could take up to an hour. The provided file should only take a few minutes."
   ]
  },
  {
   "cell_type": "code",
   "execution_count": 1,
   "metadata": {},
   "outputs": [
    {
     "name": "stdout",
     "output_type": "stream",
     "text": [
      "dict_keys(['xx', 'yy', 'ex', 'ey'])\n"
     ]
    },
    {
     "ename": "AttributeError",
     "evalue": "'Model_TTree_v20' object has no attribute 'array'",
     "output_type": "error",
     "traceback": [
      "\u001b[0;31m---------------------------------------------------------------------------\u001b[0m",
      "\u001b[0;31mAttributeError\u001b[0m                            Traceback (most recent call last)",
      "\u001b[0;32m<ipython-input-1-fa5f6d74161f>\u001b[0m in \u001b[0;36m<module>\u001b[0;34m\u001b[0m\n\u001b[1;32m     19\u001b[0m \u001b[0mfile\u001b[0m \u001b[0;34m=\u001b[0m \u001b[0;34m'./data/file.root'\u001b[0m\u001b[0;34m\u001b[0m\u001b[0;34m\u001b[0m\u001b[0m\n\u001b[1;32m     20\u001b[0m \u001b[0;34m\u001b[0m\u001b[0m\n\u001b[0;32m---> 21\u001b[0;31m \u001b[0mreal_Lind\u001b[0m \u001b[0;34m=\u001b[0m \u001b[0mnp\u001b[0m\u001b[0;34m.\u001b[0m\u001b[0mndarray\u001b[0m\u001b[0;34m.\u001b[0m\u001b[0mflatten\u001b[0m\u001b[0;34m(\u001b[0m\u001b[0mnp\u001b[0m\u001b[0;34m.\u001b[0m\u001b[0masarray\u001b[0m\u001b[0;34m(\u001b[0m\u001b[0mh\u001b[0m\u001b[0;34m(\u001b[0m\u001b[0mfile\u001b[0m\u001b[0;34m)\u001b[0m\u001b[0;34m[\u001b[0m\u001b[0;36m0\u001b[0m\u001b[0;34m]\u001b[0m\u001b[0;34m)\u001b[0m\u001b[0;34m)\u001b[0m\u001b[0;34m\u001b[0m\u001b[0;34m\u001b[0m\u001b[0m\n\u001b[0m\u001b[1;32m     22\u001b[0m \u001b[0mreal_Sor\u001b[0m \u001b[0;34m=\u001b[0m \u001b[0mnp\u001b[0m\u001b[0;34m.\u001b[0m\u001b[0mndarray\u001b[0m\u001b[0;34m.\u001b[0m\u001b[0mflatten\u001b[0m\u001b[0;34m(\u001b[0m\u001b[0mnp\u001b[0m\u001b[0;34m.\u001b[0m\u001b[0masarray\u001b[0m\u001b[0;34m(\u001b[0m\u001b[0mh\u001b[0m\u001b[0;34m(\u001b[0m\u001b[0mfile\u001b[0m\u001b[0;34m,\u001b[0m\u001b[0mmodel\u001b[0m\u001b[0;34m=\u001b[0m\u001b[0;34m'Sorenson'\u001b[0m\u001b[0;34m)\u001b[0m\u001b[0;34m[\u001b[0m\u001b[0;36m0\u001b[0m\u001b[0;34m]\u001b[0m\u001b[0;34m)\u001b[0m\u001b[0;34m)\u001b[0m\u001b[0;34m\u001b[0m\u001b[0;34m\u001b[0m\u001b[0m\n\u001b[1;32m     23\u001b[0m \u001b[0msmall_Lind\u001b[0m \u001b[0;34m=\u001b[0m \u001b[0mnp\u001b[0m\u001b[0;34m.\u001b[0m\u001b[0mndarray\u001b[0m\u001b[0;34m.\u001b[0m\u001b[0mflatten\u001b[0m\u001b[0;34m(\u001b[0m\u001b[0mnp\u001b[0m\u001b[0;34m.\u001b[0m\u001b[0masarray\u001b[0m\u001b[0;34m(\u001b[0m\u001b[0mh\u001b[0m\u001b[0;34m(\u001b[0m\u001b[0mfile\u001b[0m\u001b[0;34m,\u001b[0m\u001b[0mscalefactor\u001b[0m\u001b[0;34m=\u001b[0m\u001b[0;36m0.2\u001b[0m\u001b[0;34m)\u001b[0m\u001b[0;34m[\u001b[0m\u001b[0;36m0\u001b[0m\u001b[0;34m]\u001b[0m\u001b[0;34m)\u001b[0m\u001b[0;34m)\u001b[0m\u001b[0;34m\u001b[0m\u001b[0;34m\u001b[0m\u001b[0m\n",
      "\u001b[0;32m~/nrCascadeSim/example-usecase/python/hist.py\u001b[0m in \u001b[0;36mhistogramable\u001b[0;34m(file, binsize, binmin, binmax, labels, model, method, resolution, val, scalefactor)\u001b[0m\n\u001b[1;32m     53\u001b[0m         \u001b[0mx\u001b[0m \u001b[0;34m=\u001b[0m \u001b[0muproot\u001b[0m\u001b[0;34m.\u001b[0m\u001b[0mopen\u001b[0m\u001b[0;34m(\u001b[0m\u001b[0mfile\u001b[0m\u001b[0;34m)\u001b[0m\u001b[0;34m\u001b[0m\u001b[0;34m\u001b[0m\u001b[0m\n\u001b[1;32m     54\u001b[0m         \u001b[0mcas\u001b[0m \u001b[0;34m=\u001b[0m \u001b[0mx\u001b[0m\u001b[0;34m[\u001b[0m\u001b[0;34m'cascade'\u001b[0m\u001b[0;34m]\u001b[0m\u001b[0;34m\u001b[0m\u001b[0;34m\u001b[0m\u001b[0m\n\u001b[0;32m---> 55\u001b[0;31m         \u001b[0men\u001b[0m \u001b[0;34m=\u001b[0m \u001b[0mcas\u001b[0m\u001b[0;34m.\u001b[0m\u001b[0marray\u001b[0m\u001b[0;34m(\u001b[0m\u001b[0;34m'E'\u001b[0m\u001b[0;34m)\u001b[0m\u001b[0;34m\u001b[0m\u001b[0;34m\u001b[0m\u001b[0m\n\u001b[0m\u001b[1;32m     56\u001b[0m         \u001b[0men_dep\u001b[0m \u001b[0;34m=\u001b[0m \u001b[0mcas\u001b[0m\u001b[0;34m.\u001b[0m\u001b[0marray\u001b[0m\u001b[0;34m(\u001b[0m\u001b[0;34m'delE'\u001b[0m\u001b[0;34m)\u001b[0m\u001b[0;34m\u001b[0m\u001b[0;34m\u001b[0m\u001b[0m\n\u001b[1;32m     57\u001b[0m         \u001b[0mc_id\u001b[0m \u001b[0;34m=\u001b[0m \u001b[0mcas\u001b[0m\u001b[0;34m.\u001b[0m\u001b[0marray\u001b[0m\u001b[0;34m(\u001b[0m\u001b[0;34m'cid'\u001b[0m\u001b[0;34m)\u001b[0m\u001b[0;34m\u001b[0m\u001b[0;34m\u001b[0m\u001b[0m\n",
      "\u001b[0;31mAttributeError\u001b[0m: 'Model_TTree_v20' object has no attribute 'array'"
     ]
    }
   ],
   "source": [
    "#Import Libraries\n",
    "import uproot\n",
    "import numpy as np\n",
    "import matplotlib.pyplot as plt\n",
    "import matplotlib.patches as mpatch\n",
    "plt.style.use('standard.mplstyle')\n",
    "from matplotlib.lines import Line2D\n",
    "#Custom libraries\n",
    "import sys\n",
    "sys.path.append('./python')\n",
    "import nc_kinematics as nck\n",
    "import lindhard as lin\n",
    "import R68_yield as R68y\n",
    "from hist import histogramable as h\n",
    "\n",
    "#Build stuff!\n",
    "\n",
    "#Select a file.\n",
    "file = './data/file.root'\n",
    "\n",
    "real_Lind = np.ndarray.flatten(np.asarray(h(file)[0]))\n",
    "real_Sor = np.ndarray.flatten(np.asarray(h(file,model='Sorenson')[0]))\n",
    "small_Lind = np.ndarray.flatten(np.asarray(h(file,scalefactor=0.2)[0]))\n",
    "small_Sor = np.ndarray.flatten(np.asarray(h(file,model='Sorenson',scalefactor=0.2)[0]))\n",
    "\n",
    "real_Lind = real_Lind[real_Lind >= 0]\n",
    "real_Sor = real_Sor[real_Sor >= 0]\n",
    "small_Lind = small_Lind[small_Lind >= 0]\n",
    "small_Sor = small_Sor[small_Sor >= 0]\n",
    "\n",
    "#From https://stackoverflow.com/questions/31517156/adjust-exponent-text-after-setting-scientific-limits-on-matplotlib-axis\n",
    "\n",
    "def format_exponent(ax, axis='y'):\n",
    "\n",
    "    # Change the ticklabel format to scientific format\n",
    "    ax.ticklabel_format(axis=axis, style='sci', scilimits=(-2, 2))\n",
    "\n",
    "    # Get the appropriate axis\n",
    "    if axis == 'y':\n",
    "        ax_axis = ax.yaxis\n",
    "        x_pos = 0.0\n",
    "        y_pos = 1.0\n",
    "        horizontalalignment='left'\n",
    "        verticalalignment='bottom'\n",
    "    else:\n",
    "        ax_axis = ax.xaxis\n",
    "        x_pos = 1.0\n",
    "        y_pos = -0.05\n",
    "        horizontalalignment='right'\n",
    "        verticalalignment='top'\n",
    "\n",
    "    # Run plt.tight_layout() because otherwise the offset text doesn't update\n",
    "    plt.tight_layout()\n",
    "\n",
    "    # Get the offset value\n",
    "    offset = ax_axis.get_offset_text().get_text()\n",
    "\n",
    "    if len(offset) > 0:\n",
    "        # Get that exponent value and change it into latex format\n",
    "        minus_sign = u'\\u2212'\n",
    "        expo = np.float(offset.replace(minus_sign, '-').split('e')[-1])\n",
    "        offset_text = r'x$\\mathregular{10^{%d}}$' %expo\n",
    "\n",
    "        # Turn off the offset text that's calculated automatically\n",
    "        ax_axis.offsetText.set_visible(False)\n",
    "\n",
    "        # Add in a text box at the top of the y axis\n",
    "        ax.text(x_pos, y_pos, offset_text, transform=ax.transAxes,\n",
    "               horizontalalignment=horizontalalignment,\n",
    "               verticalalignment=verticalalignment,fontsize=30)\n",
    "    return ax"
   ]
  },
  {
   "cell_type": "code",
   "execution_count": null,
   "metadata": {},
   "outputs": [],
   "source": [
    "fig, ax = plt.subplots(figsize=(16,12))\n",
    "\n",
    "binsize = 8 #bin width in eVee\n",
    "bins = np.arange(0,620,binsize)\n",
    "\n",
    "plt.hist(small_Lind,alpha=0.7,label='Small Res (1/5, Lindhard)',histtype='step',edgecolor='black',density='True',linewidth=2,bins=bins)\n",
    "plt.hist(small_Sor,alpha=0.7,label='Small Res (1/5, Sorenson)',histtype='step',edgecolor='black',linestyle='--',density='True',linewidth=2,bins=bins)\n",
    "plt.hist(real_Sor,alpha=0.6,label='Sorenson',histtype='step',fill=True,density='True',bins=bins,linewidth=3,edgecolor='navy',color='C0')\n",
    "plt.hist(real_Lind,alpha=0.6,label='Lindhard',histtype='step',fill=True,density='True',bins=bins,linewidth=3,edgecolor='#a30',color='C1')\n",
    "\n",
    "plt.xlabel(r\"Energy Yielded ($\\mathrm{eV}_{\\mathrm{ee}}$)\",fontsize=50)\n",
    "plt.ylabel(\"PDF\",fontsize=50)#Counts/(total counts * bin width)\")\n",
    "\n",
    "ax = format_exponent(ax, axis='y')\n",
    "ax.tick_params(axis='both',which='major',labelsize=40)\n",
    "\n",
    "plt.xlim([0,None])\n",
    "plt.ylim([6e-13,6e-3]) #Make corner less awkward. Smallest starting value that will make the extra 0 go away\n",
    "\n",
    "#Legend\n",
    "LindPatch = mpatch.Patch(facecolor='C1',edgecolor='#a30',linewidth=3,label='Lindhard',alpha=0.6)\n",
    "SorPatch = mpatch.Patch(facecolor='C0',edgecolor='navy',linewidth=3,label='Sorenson',alpha=0.6)\n",
    "LindLine = Line2D([0],[0],alpha=0.7,color='black',label='Small Res (1/5, Lindhard)')\n",
    "SorLine = Line2D([0],[0],linestyle='--',alpha=0.7,color='black',label='Small Res (1/5, Sorenson)')\n",
    "\n",
    "plt.legend(handles=[LindPatch,SorPatch,LindLine,SorLine],fontsize=40)\n",
    "plt.show()"
   ]
  },
  {
   "cell_type": "markdown",
   "metadata": {},
   "source": [
    "NOTE: values < 0 were manually removed. The resolution model generates a gaussian with a width which is proportionately larger for smaller values of E, resulting in (non-physically) negative values in the results. "
   ]
  }
 ],
 "metadata": {
  "kernelspec": {
   "display_name": "nrCascadeSim",
   "language": "python",
   "name": "nrcascadesim"
  },
  "language_info": {
   "codemirror_mode": {
    "name": "ipython",
    "version": 3
   },
   "file_extension": ".py",
   "mimetype": "text/x-python",
   "name": "python",
   "nbconvert_exporter": "python",
   "pygments_lexer": "ipython3",
   "version": "3.8.8"
  }
 },
 "nbformat": 4,
 "nbformat_minor": 4
}
